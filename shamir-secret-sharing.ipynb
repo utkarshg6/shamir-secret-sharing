{
 "cells": [
  {
   "cell_type": "code",
   "execution_count": 1,
   "metadata": {
    "scrolled": true
   },
   "outputs": [
    {
     "name": "stdout",
     "output_type": "stream",
     "text": [
      "Secret: 100\n",
      "Shares: [(20584, 1100564828), (35907, 1919839669), (16416, 877714372), (24666, 1318817122)]\n",
      "Pool: [(16416, 877714372), (20584, 1100564828)]\n",
      "Reconstructed Key: 100\n"
     ]
    }
   ],
   "source": [
    "import random \n",
    "from decimal import *\n",
    "   \n",
    "      \n",
    "global field_size \n",
    "field_size = 10**5\n",
    "\n",
    "def reconstruct_secret(shares): \n",
    "    \n",
    "    \"\"\"\n",
    "    Uses Lagrange's Interpolation to generate the secret key.\n",
    "    Secret = P(0)\n",
    "    \"\"\"\n",
    "\n",
    "    sums, prod_arr = 0, [] \n",
    "      \n",
    "    for j, (xj, yj) in enumerate(shares): \n",
    "        prod = Decimal(1) \n",
    "        \n",
    "        for i, (xi, yi) in enumerate(shares): \n",
    "            if i != j:\n",
    "                prod *= Decimal(Decimal(xi)/(xi-xj)) \n",
    "                  \n",
    "        prod *= yj \n",
    "        sums += Decimal(prod) \n",
    "          \n",
    "    return int(round(Decimal(sums),0))\n",
    "\n",
    "def generate_coeffs(t, secret): \n",
    "    \"\"\"\n",
    "    The coefficients are from highest degree to lowest.\n",
    "    \"\"\"\n",
    "    \n",
    "    coeffs = [random.randrange(0, field_size) for _ in range(t-1)] \n",
    "    coeffs.append(secret) \n",
    "      \n",
    "    return coeffs \n",
    "\n",
    "def generate_shares(n, m, secret): \n",
    "    \"\"\"\n",
    "    n -> Total Shares\n",
    "    m -> Threshold Required\n",
    "    secret -> The secret number\n",
    "    \"\"\"\n",
    "    \n",
    "    coeffs = generate_coeffs(m,secret) \n",
    "    shares = [] \n",
    "      \n",
    "    for i in range(n): \n",
    "        x = random.randrange(1, field_size)\n",
    "        y = calculate_y(x, coeffs)\n",
    "        shares.append((x, y)) \n",
    "      \n",
    "    return shares \n",
    "\n",
    "def calculate_y(x, coeffs): \n",
    "      \n",
    "    \"\"\"\n",
    "    y = P(x)\n",
    "    \"\"\"\n",
    "    return sum([x**(len(coeffs)-i-1) * coeffs[i] for i in range(len(coeffs))]) \n",
    "\n",
    "\n",
    "if __name__ == \"__main__\":\n",
    "    secret = 100\n",
    "    n = 4\n",
    "    m = 2\n",
    "    \n",
    "    \n",
    "    shares = generate_shares(n, m, secret)\n",
    "    \n",
    "    pool = random.sample(shares, m)\n",
    "    \n",
    "    reconstructed_secret = reconstruct_secret(pool)\n",
    "    \n",
    "    print(\"Secret:\", secret)\n",
    "    print(\"Shares:\", shares)\n",
    "    print(\"Pool:\", pool)\n",
    "    print(\"Reconstructed Key:\", reconstructed_secret)"
   ]
  },
  {
   "cell_type": "code",
   "execution_count": null,
   "metadata": {},
   "outputs": [],
   "source": []
  }
 ],
 "metadata": {
  "kernelspec": {
   "display_name": "Python 3",
   "language": "python",
   "name": "python3"
  },
  "language_info": {
   "codemirror_mode": {
    "name": "ipython",
    "version": 3
   },
   "file_extension": ".py",
   "mimetype": "text/x-python",
   "name": "python",
   "nbconvert_exporter": "python",
   "pygments_lexer": "ipython3",
   "version": "3.6.4"
  }
 },
 "nbformat": 4,
 "nbformat_minor": 2
}
